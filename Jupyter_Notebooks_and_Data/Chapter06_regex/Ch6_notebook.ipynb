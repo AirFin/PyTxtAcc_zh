{
 "cells": [
  {
   "cell_type": "markdown",
   "metadata": {},
   "source": [
    "# Chapter 6: Sample Notebook"
   ]
  },
  {
   "cell_type": "markdown",
   "metadata": {},
   "source": [
    "This notebook contains all code from Chapter 6: _Introduction to Regular Expressions_."
   ]
  },
  {
   "cell_type": "code",
   "execution_count": 1,
   "metadata": {},
   "outputs": [],
   "source": [
    "import re"
   ]
  },
  {
   "cell_type": "markdown",
   "metadata": {},
   "source": [
    "## 6.1 Looking for Patterns in Text"
   ]
  },
  {
   "cell_type": "code",
   "execution_count": 2,
   "metadata": {},
   "outputs": [
    {
     "name": "stdout",
     "output_type": "stream",
     "text": [
      "Result of re.search:\n",
      "<re.Match object; span=(0, 2), match='OI'>\n",
      "\n",
      "Result of re.findall:\n",
      "['OI', 'OI']\n",
      "\n",
      "Result of re.split:\n",
      "['OI for FY 2019 was 12.4 billion', ' up more than eight percent from OI in FY 2018.']\n",
      "\n",
      "Result of re.sub:\n",
      "Operating Income for FY 2019 was 12.4 billion, up more than eight percent from Operating Income in FY 2018.\n"
     ]
    }
   ],
   "source": [
    "# loads Python's regular expressions module\n",
    "import re \n",
    "\n",
    "text = \"OI for FY 2019 was 12.4 billion, up more than eight percent from OI in FY 2018.\"\n",
    "\n",
    "#returns a Match object of the first match if it exists \n",
    "x1 = re.search(r\"OI\", text) \n",
    "\n",
    "#finds all matches of \"OI\"\n",
    "x2 = re.findall(r\"OI\", text) \n",
    "\n",
    "#splits text at \",\"\n",
    "x3 = re.split(r\",\", text) \n",
    "\n",
    "#replaces \"OI\" with \"Operating Income\"\n",
    "x4 = re.sub(r\"OI\", \"Operating Income\", text) \n",
    "\n",
    "print(f'Result of re.search:\\n{x1}\\n')\n",
    "print(f'Result of re.findall:\\n{x2}\\n')\n",
    "print(f'Result of re.split:\\n{x3}\\n')\n",
    "print(f'Result of re.sub:\\n{x4}')"
   ]
  },
  {
   "cell_type": "code",
   "execution_count": 3,
   "metadata": {},
   "outputs": [
    {
     "name": "stdout",
     "output_type": "stream",
     "text": [
      "['MD&a', 'md&A']\n",
      "['md&a', 'md&a']\n"
     ]
    }
   ],
   "source": [
    "x1 = re.findall(r'MD&A', \"This year's MD&a Section is located... Please refer to our md&A section on page...\", re.IGNORECASE)\n",
    "x2 = re.findall(r'md&a', \"This year's MD&a Section is located... Please refer to our md&A section on page...\".lower())\n",
    "print(x1)\n",
    "print(x2)"
   ]
  },
  {
   "cell_type": "markdown",
   "metadata": {},
   "source": [
    "## 6.2 Characters and Character Sets"
   ]
  },
  {
   "cell_type": "markdown",
   "metadata": {},
   "source": [
    "### Special Characters"
   ]
  },
  {
   "cell_type": "markdown",
   "metadata": {},
   "source": [
    "Match the dollar sign in the string by using a backslash in the pattern. This works"
   ]
  },
  {
   "cell_type": "code",
   "execution_count": 4,
   "metadata": {},
   "outputs": [
    {
     "name": "stdout",
     "output_type": "stream",
     "text": [
      "<re.Match object; span=(75, 80), match='$4.99'>\n"
     ]
    }
   ],
   "source": [
    "print(re.search(r\"\\$4.99\", \"Apple's Earnings per Share for the three months ended in December 2019 was $4.99,\"))"
   ]
  },
  {
   "cell_type": "markdown",
   "metadata": {},
   "source": [
    "Omit the backslash in the pattern. This does not work."
   ]
  },
  {
   "cell_type": "code",
   "execution_count": 5,
   "metadata": {},
   "outputs": [
    {
     "name": "stdout",
     "output_type": "stream",
     "text": [
      "None\n"
     ]
    }
   ],
   "source": [
    "print(re.search(r\"$4.99\", \"Apple's Earnings per Share for the three months ended in December 2019 was $4.99,\"))"
   ]
  },
  {
   "cell_type": "markdown",
   "metadata": {},
   "source": [
    "Match the backslash in the string by using a backslash in the pattern. This works"
   ]
  },
  {
   "cell_type": "code",
   "execution_count": 6,
   "metadata": {},
   "outputs": [
    {
     "name": "stdout",
     "output_type": "stream",
     "text": [
      "<re.Match object; span=(5, 10), match='S-1\\\\A'>\n"
     ]
    }
   ],
   "source": [
    "print(re.search(r\"S-1\\\\A\", \"Form S-1\\A\"))"
   ]
  },
  {
   "cell_type": "markdown",
   "metadata": {},
   "source": [
    "Omit the backslash in the pattern. This does not work."
   ]
  },
  {
   "cell_type": "code",
   "execution_count": 7,
   "metadata": {},
   "outputs": [
    {
     "name": "stdout",
     "output_type": "stream",
     "text": [
      "None\n"
     ]
    }
   ],
   "source": [
    "print(re.search(r\"S-1\\A\", \"Form S-1\\A\"))"
   ]
  },
  {
   "cell_type": "markdown",
   "metadata": {},
   "source": [
    "### Character Sets in Regex"
   ]
  },
  {
   "cell_type": "code",
   "execution_count": 8,
   "metadata": {},
   "outputs": [
    {
     "name": "stdout",
     "output_type": "stream",
     "text": [
      "['7', '0', '2', '0', '1', '9']\n",
      "['7', '0', '%', '2', '0', '1', '9']\n",
      "['70%']\n"
     ]
    }
   ],
   "source": [
    "text = \"This project has increased our revenues by more than 70% in FY 2019.\"\n",
    "\n",
    "# returns all single digit matches\n",
    "x1 = re.findall(r'[0-9]', text) \n",
    "\n",
    "# returns all non-word characters, also excludes spaces, periods, and commas\n",
    "x2 = re.findall(r'[^a-zA-Z \\.,]', text) \n",
    "\n",
    "# returns all two-digit numbers followed by \"%\"\n",
    "x3 = re.findall(r'\\d\\d%', text) \n",
    "\n",
    "print(x1)\n",
    "print(x2)\n",
    "print(x3)"
   ]
  },
  {
   "cell_type": "markdown",
   "metadata": {},
   "source": [
    "## 6.3 Anchors and Boundaries in Regex"
   ]
  },
  {
   "cell_type": "code",
   "execution_count": 9,
   "metadata": {},
   "outputs": [
    {
     "name": "stdout",
     "output_type": "stream",
     "text": [
      "<re.Match object; span=(0, 3), match='inf'>\n"
     ]
    }
   ],
   "source": [
    "# Match inf at the beginning of the string\n",
    "print(re.search(r\"^inf\", \"information retrieval\"))"
   ]
  },
  {
   "cell_type": "code",
   "execution_count": 10,
   "metadata": {},
   "outputs": [
    {
     "name": "stdout",
     "output_type": "stream",
     "text": [
      "None\n"
     ]
    }
   ],
   "source": [
    "# No match because the characters inf occur in the middle of the string\n",
    "print(re.search(r\"^inf\", \"retrieval of information\"))"
   ]
  },
  {
   "cell_type": "code",
   "execution_count": 11,
   "metadata": {},
   "outputs": [
    {
     "name": "stdout",
     "output_type": "stream",
     "text": [
      "<re.Match object; span=(0, 4), match='high'>\n"
     ]
    }
   ],
   "source": [
    "# Match high because it is a complete word\n",
    "print(re.search(r\"\\bhigh\\b\", \"high income\"))"
   ]
  },
  {
   "cell_type": "code",
   "execution_count": 12,
   "metadata": {},
   "outputs": [
    {
     "name": "stdout",
     "output_type": "stream",
     "text": [
      "None\n"
     ]
    }
   ],
   "source": [
    "# No match because high is part of a word\n",
    "print(re.search(r\"\\bhigh\\b\", \"higher income\"))"
   ]
  },
  {
   "cell_type": "code",
   "execution_count": 13,
   "metadata": {},
   "outputs": [
    {
     "name": "stdout",
     "output_type": "stream",
     "text": [
      "<re.Match object; span=(0, 4), match='high'>\n"
     ]
    }
   ],
   "source": [
    "# Match high because it is part of a word\n",
    "print(re.search(r\"\\bhigh\\B\", \"higher income\"))"
   ]
  },
  {
   "cell_type": "code",
   "execution_count": 14,
   "metadata": {},
   "outputs": [
    {
     "name": "stdout",
     "output_type": "stream",
     "text": [
      "None\n"
     ]
    }
   ],
   "source": [
    "# No match because high is a complete word\n",
    "print(re.search(r\"\\bhigh\\B\", \"high income\"))"
   ]
  },
  {
   "cell_type": "markdown",
   "metadata": {},
   "source": [
    "## 6.4 Quantifiers in Regex"
   ]
  },
  {
   "cell_type": "code",
   "execution_count": 15,
   "metadata": {},
   "outputs": [
    {
     "name": "stdout",
     "output_type": "stream",
     "text": [
      "<re.Match object; span=(0, 4), match='high'>\n"
     ]
    }
   ],
   "source": [
    "# Match one or more word characters at the beginning of a string,\n",
    "# followed by a word boundary\n",
    "print(re.search(r\"^\\w+\\b\", \"high income\"))"
   ]
  },
  {
   "cell_type": "code",
   "execution_count": 16,
   "metadata": {},
   "outputs": [
    {
     "name": "stdout",
     "output_type": "stream",
     "text": [
      "<re.Match object; span=(0, 4), match='1975'>\n"
     ]
    }
   ],
   "source": [
    "# Match any integer number between 1900 and 1999\n",
    "print(re.search(r\"\\b19\\d{2}\\b\", \"1975\"))"
   ]
  },
  {
   "cell_type": "code",
   "execution_count": 17,
   "metadata": {},
   "outputs": [
    {
     "name": "stdout",
     "output_type": "stream",
     "text": [
      "['08', '09']\n"
     ]
    }
   ],
   "source": [
    "# Match all two and three digit numbers in text\n",
    "print(re.findall(r\"\\b\\d{2,3}\\b\", \"The financial crisis occurred in 08 and 09\"))"
   ]
  },
  {
   "cell_type": "markdown",
   "metadata": {},
   "source": [
    "## 6.5 Groups in Regex"
   ]
  },
  {
   "cell_type": "code",
   "execution_count": 18,
   "metadata": {},
   "outputs": [
    {
     "name": "stdout",
     "output_type": "stream",
     "text": [
      "FULL MATCH:\n",
      "Total Assets = $10,000,000\n",
      "\n",
      "GROUP MATCH:\n",
      "$10,000,000\n"
     ]
    }
   ],
   "source": [
    "m = re.match(r\"Total Assets = (\\$[\\d,\\.]+)\\b\", \"Total Assets = $10,000,000\")\n",
    "\n",
    "print(f'FULL MATCH:\\n{m.group(0)}')\n",
    "print()\n",
    "print(f'GROUP MATCH:\\n{m.group(1)}')"
   ]
  },
  {
   "cell_type": "code",
   "execution_count": 19,
   "metadata": {
    "scrolled": true
   },
   "outputs": [
    {
     "name": "stdout",
     "output_type": "stream",
     "text": [
      "FULL MATCH:\n",
      "Email: abc@ABC.edu\n",
      "\n",
      "GROUP MATCH:\n",
      "abc@ABC.edu\n"
     ]
    }
   ],
   "source": [
    "m = re.match(r\"Email: ([\\w\\.-]+@[\\w\\.-]+.edu)\", \"Email: abc@ABC.edu\")\n",
    "\n",
    "print(f'FULL MATCH:\\n{m.group(0)}')\n",
    "print()\n",
    "print(f'GROUP MATCH:\\n{m.group(1)}')"
   ]
  },
  {
   "cell_type": "code",
   "execution_count": 20,
   "metadata": {
    "scrolled": false
   },
   "outputs": [
    {
     "name": "stdout",
     "output_type": "stream",
     "text": [
      "FULL MATCH:\n",
      "Form 10-K\n",
      "\n",
      "GROUP MATCH:\n",
      "10-K\n"
     ]
    }
   ],
   "source": [
    "m = re.match(r\"Form (10-K|10-Q)\", \"Form 10-K\")\n",
    "\n",
    "print(f'FULL MATCH:\\n{m.group(0)}')\n",
    "print()\n",
    "print(f'GROUP MATCH:\\n{m.group(1)}')"
   ]
  },
  {
   "cell_type": "code",
   "execution_count": 21,
   "metadata": {
    "scrolled": true
   },
   "outputs": [
    {
     "name": "stdout",
     "output_type": "stream",
     "text": [
      "<re.Match object; span=(0, 11), match='above above'>\n"
     ]
    }
   ],
   "source": [
    "print(re.search(r\"\\b(\\w+)\\s\\1\\b\", \"above above\"))"
   ]
  },
  {
   "cell_type": "markdown",
   "metadata": {},
   "source": [
    "## 6.6 Lookahead and Lookbehind in Regex"
   ]
  },
  {
   "cell_type": "code",
   "execution_count": 22,
   "metadata": {},
   "outputs": [
    {
     "name": "stdout",
     "output_type": "stream",
     "text": [
      "<re.Match object; span=(0, 8), match='filename'>\n",
      "None\n"
     ]
    }
   ],
   "source": [
    "# Match the word filename, only when followed by .txt\n",
    "print(re.search(r\"filename(?=\\.txt)\", \"filename.txt\"))\n",
    "print(re.search(r\"filename(?=\\.txt)\", \"filename.csv\"))"
   ]
  },
  {
   "cell_type": "code",
   "execution_count": 23,
   "metadata": {},
   "outputs": [
    {
     "name": "stdout",
     "output_type": "stream",
     "text": [
      "None\n",
      "<re.Match object; span=(0, 8), match='filename'>\n"
     ]
    }
   ],
   "source": [
    "# Match the word filename, only when not followed by .txt\n",
    "print(re.search(r\"filename(?!\\.txt)\", \"filename.txt\"))\n",
    "print(re.search(r\"filename(?!\\.txt)\", \"filename.csv\"))"
   ]
  },
  {
   "cell_type": "code",
   "execution_count": 24,
   "metadata": {},
   "outputs": [
    {
     "name": "stdout",
     "output_type": "stream",
     "text": [
      "<re.Match object; span=(5, 9), match='2020'>\n",
      "None\n"
     ]
    }
   ],
   "source": [
    "# Match 4 digits, only when preceded by the word year and a space\n",
    "print(re.search(r\"(?<=year\\s)\\d{4}\", \"year 2020\"))\n",
    "print(re.search(r\"(?<=year\\s)\\d{4}\", \"series 2020\"))"
   ]
  },
  {
   "cell_type": "code",
   "execution_count": 25,
   "metadata": {},
   "outputs": [
    {
     "name": "stdout",
     "output_type": "stream",
     "text": [
      "None\n",
      "<re.Match object; span=(7, 11), match='2020'>\n"
     ]
    }
   ],
   "source": [
    "# Match 4 digits, only when not preceded by the word year and a space\n",
    "print(re.search(r\"(?<!year\\s)\\d{4}\", \"year 2020\"))\n",
    "print(re.search(r\"(?<!year\\s)\\d{4}\", \"series 2020\"))"
   ]
  },
  {
   "cell_type": "markdown",
   "metadata": {},
   "source": [
    "## 6.7 Examples of Regex for different textual analysis tasks"
   ]
  },
  {
   "cell_type": "markdown",
   "metadata": {},
   "source": [
    "#### Example 1: Character Sets"
   ]
  },
  {
   "cell_type": "code",
   "execution_count": 26,
   "metadata": {},
   "outputs": [
    {
     "name": "stdout",
     "output_type": "stream",
     "text": [
      "['70%', '9%', '12%', '12.5 percent']\n"
     ]
    }
   ],
   "source": [
    "# input text\n",
    "text = \"This project has resulted in over 70% of our 2019 revenues to date. As a result, our operating income increased by 9%, while our operating expenses increased by 12%. We had a 12.5 percent increase in regional sales.\" \n",
    "\n",
    "# recall that ?: after the left parenthesis specifies a non-capturing group\n",
    "x = re.findall(r'[\\d\\.]+(?:\\%|\\s\\bpercent\\b)', text) \n",
    "\n",
    "print(x)"
   ]
  },
  {
   "cell_type": "markdown",
   "metadata": {},
   "source": [
    "#### Example 2: Character Sets, Quantifiers, Groups, Lookbehinds"
   ]
  },
  {
   "cell_type": "code",
   "execution_count": 27,
   "metadata": {
    "scrolled": true
   },
   "outputs": [
    {
     "name": "stdout",
     "output_type": "stream",
     "text": [
      "['0000080424']\n",
      "['PROCTER & GAMBLE Co']\n",
      "['20181019']\n",
      "['2840']\n"
     ]
    }
   ],
   "source": [
    "# an example of a standard input header used in SEC filings\n",
    "header = \"\"\"<SEC-HEADER>0000080424-18-000100.hdr.sgml : 20181019\n",
    "<ACCEPTANCE-DATETIME>20181019161731\n",
    "ACCESSION NUMBER:\t\t0000080424-18-000100\n",
    "CONFORMED SUBMISSION TYPE:\t10-Q\n",
    "PUBLIC DOCUMENT COUNT:\t\t68\n",
    "CONFORMED PERIOD OF REPORT:\t20180930\n",
    "FILED AS OF DATE:\t\t20181019\n",
    "DATE AS OF CHANGE:\t\t20181019\n",
    "FILER:\n",
    "\tCOMPANY DATA:\t\n",
    "\t\tCOMPANY CONFORMED NAME:\t\t\tPROCTER & GAMBLE Co\n",
    "\t\tCENTRAL INDEX KEY:\t\t\t0000080424\n",
    "\t\tSTANDARD INDUSTRIAL CLASSIFICATION:\tSOAP, DETERGENT, CLEANING PREPARATIONS, PERFUMES, COSMETICS [2840]\n",
    "\t\tIRS NUMBER:\t\t\t\t310411980\n",
    "\t\tSTATE OF INCORPORATION:\t\t\tOH\n",
    "\t\tFISCAL YEAR END:\t\t\t0630\n",
    "[...]\n",
    "</SEC-HEADER>\"\"\"\n",
    "\n",
    "# CIK is the 10-digit number, so we use the quantifier {10} to consider only 10-digit numbers in the match\n",
    "# this Regex specifies text \"CENTRAL INDEX KEY:\", followed by space \\s \n",
    "# (matched zero or many times as indicated by *), followed by a group capturing 10-digit numbers\n",
    "# Also, note that re.findall with a group Regex only returns the group match, and not the full match\n",
    "cik = re.findall(r\"CENTRAL INDEX KEY:\\s*(\\d{10})\", header) \n",
    "\n",
    "# this Regex specifies text \"COMPANY CONFORMED NAME:\", followed by space \\s (matched zero or many times), \n",
    "# followed by a group capturing any character one or many times\n",
    "# flag MULTILINE makes ^ and $ characters capture beginning and end positions \n",
    "# of text lines instead of only text files\n",
    "company_name = re.findall(r\"COMPANY CONFORMED NAME:\\s*(.+)$\", header, re.MULTILINE) \n",
    "\n",
    "# this Regex specifies text \"FILED AS OF DATE:\", followed by space \\s (matched zero or many times), \n",
    "# followed by a group capturing 8-digit numbers as all dates in the SEC headers are in the YYYYMMDD format\n",
    "filing_date = re.findall(r'FILED AS OF DATE:\\s*(\\d{8})', header) \n",
    "\n",
    "# This Regex uses a positive lookbehind to check if a 4-digit number \n",
    "# is preceded by text \"STANDARD INDUSTRIAL CLASSIFICATION:\"\n",
    "sic = re.findall(r'(?<=STANDARD INDUSTRIAL CLASSIFICATION:).+(\\d{4})', header) \n",
    "\n",
    "print(cik)\n",
    "print(company_name)\n",
    "print(filing_date)\n",
    "print(sic)"
   ]
  },
  {
   "cell_type": "markdown",
   "metadata": {},
   "source": [
    "#### Example 3: Word Boundaries and Quantifiers"
   ]
  },
  {
   "cell_type": "code",
   "execution_count": 28,
   "metadata": {},
   "outputs": [
    {
     "name": "stdout",
     "output_type": "stream",
     "text": [
      "Number of risky words: ['risk', 'risks', 'risks', 'Risk', 'risks', 'risky', 'riskiness', 'risks']\n",
      "Percent of risky words: 11.4286%\n"
     ]
    }
   ],
   "source": [
    "# input text\n",
    "text = \"An investment in our common stock involves a high degree of risk. You should carefully consider the risks summarized below. The risks are discussed more fully in the Risk Factors section of this prospectus immediately following this prospectus summary. These risks include, but are not limited to, the following [...] These operations are risky [...] Marcroeconomic fluctuations increase the riskiness of our operations. As indicated in Section 2.1, our company's long-term risks include [...]\" \n",
    "\n",
    "# this Regex matches a word boundary followed by a text string 'risk', followed by an \n",
    "# alphanumeric character (repeated zero or many times), followed by a word boundary; \n",
    "# re.IGNORECASE specifies a case-insensitive matching\n",
    "risk_words = re.findall(r\"\\brisk\\w*\\b\", text, re.IGNORECASE) \n",
    "\n",
    "# matches all single words (allowing for '-' between two words and apostrophe) in text\n",
    "all_words = re.findall(r\"\\b[a-zA-Z\\'\\-]+\\b\", text)\n",
    "\n",
    "# function len() here returns the number of words that start with string 'risk', \n",
    "# i.e., the number of matches in risk_words list\n",
    "risk_words_freq =  len(risk_words) \n",
    "\n",
    "# the number of all words in text\n",
    "all_words_freq = len(all_words) \n",
    "\n",
    "# percentage of risk-related words in text\n",
    "text_riskiness = 100 * risk_words_freq / all_words_freq \n",
    "\n",
    "print(f'Number of risky words: {risk_words}')\n",
    "print(f'Percent of risky words: {text_riskiness:.4f}%')"
   ]
  }
 ],
 "metadata": {
  "kernelspec": {
   "display_name": "Python 3",
   "language": "python",
   "name": "python3"
  },
  "language_info": {
   "codemirror_mode": {
    "name": "ipython",
    "version": 3
   },
   "file_extension": ".py",
   "mimetype": "text/x-python",
   "name": "python",
   "nbconvert_exporter": "python",
   "pygments_lexer": "ipython3",
   "version": "3.7.6"
  }
 },
 "nbformat": 4,
 "nbformat_minor": 4
}

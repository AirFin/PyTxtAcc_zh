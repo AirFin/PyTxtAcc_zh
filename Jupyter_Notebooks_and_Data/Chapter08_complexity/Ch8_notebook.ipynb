{
 "cells": [
  {
   "cell_type": "markdown",
   "metadata": {},
   "source": [
    "# Chapter 8: Sample Notebook"
   ]
  },
  {
   "cell_type": "markdown",
   "metadata": {},
   "source": [
    "This notebook contains all code from Chapter 8: _Quantifying Text Complexity_."
   ]
  },
  {
   "cell_type": "code",
   "execution_count": 1,
   "metadata": {},
   "outputs": [],
   "source": [
    "import re"
   ]
  },
  {
   "cell_type": "markdown",
   "metadata": {},
   "source": [
    "## 8.2 Calculating Text Length"
   ]
  },
  {
   "cell_type": "code",
   "execution_count": 2,
   "metadata": {},
   "outputs": [],
   "source": [
    "def identify_words(input_text:str):\n",
    "    \"\"\"Extracts all words from a given text.\"\"\"\n",
    "    words = re.findall(r\"\\b[a-zA-Z\\'\\-]+\\b\",input_text)\n",
    "    return words\n",
    "    \n",
    "def count_words (input_text:str):\n",
    "    \"\"\"Counts the number of words in a given text.\"\"\"\n",
    "    words = identify_words(input_text)\n",
    "    # calculates the number of all words in a given text\n",
    "    word_count = len(words) \n",
    "    return word_count"
   ]
  },
  {
   "cell_type": "code",
   "execution_count": 3,
   "metadata": {},
   "outputs": [
    {
     "name": "stdout",
     "output_type": "stream",
     "text": [
      "Number of words in text: 143\n"
     ]
    }
   ],
   "source": [
    "# excerpt from Microsoft Corporation's 2016 10-K.\n",
    "text = \"\"\"We acquire other companies and intangible assets and may not realize all the economic benefit from those acquisitions, which could cause an impairment of goodwill or intangibles. We review our amortizable intangible assets for impairment when events or changes in circumstances indicate the carrying value may not be recoverable. We test goodwill for impairment at least annually. Factors that may be a change in circumstances, indicating that the carrying value of our goodwill or amortizable intangible assets may not be recoverable, include a decline in our stock price and market capitalization, reduced future cash flow estimates, and slower growth rates in industry segments in which we participate. We may be required to record a significant charge on our consolidated financial statements during the period in which any impairment of our goodwill or amortizable intangible assets is determined, negatively affecting our results of operations.\"\"\"\n",
    "\n",
    "text_length = count_words(text)\n",
    "print(f\"Number of words in text: {text_length}\")"
   ]
  },
  {
   "cell_type": "code",
   "execution_count": 5,
   "metadata": {},
   "outputs": [
    {
     "name": "stdout",
     "output_type": "stream",
     "text": [
      "Number of sentences in text: 5\n"
     ]
    }
   ],
   "source": [
    "def identify_sentences(input_text:str):\n",
    "    \"\"\"Extracts all sentences from a given text.\"\"\"\n",
    "    sentences = re.findall(r\"\\b[A-Z](?:[^\\.!?]|\\.\\d)*[\\.!?]\",input_text)\n",
    "    return sentences\n",
    "    \n",
    "def count_sentences (input_text:str):\n",
    "    \"\"\"Counts the number of sentences in a given text.\"\"\"\n",
    "    sentences = identify_sentences(input_text)\n",
    "    sentence_count = len(sentences)\n",
    "    return sentence_count\n",
    "\n",
    "num_sentences = count_sentences(text)\n",
    "print(f\"Number of sentences in text: {num_sentences}\")"
   ]
  },
  {
   "cell_type": "markdown",
   "metadata": {},
   "source": [
    "## 8.3 Measuring Text Readability Using the Fog Index"
   ]
  },
  {
   "cell_type": "markdown",
   "metadata": {},
   "source": [
    "### 8.3.1 Writing a Function to Calculate the Fog Index"
   ]
  },
  {
   "cell_type": "code",
   "execution_count": 6,
   "metadata": {},
   "outputs": [],
   "source": [
    "re_syllables = re.compile(r'(^|[^aeuoiy])(?!e$)[aeouiy]', re.IGNORECASE) # regex pattern that matches vowels in a word (case-insensitive); used for syllable count\n",
    "\n",
    "def count_syllables(word:str):\n",
    "    \"\"\"Counts the number of syllables in a word.\"\"\"\n",
    "    syllables_matches = re_syllables.findall(word) # gets all syllable regex pattern matches in the input word\n",
    "    return len(syllables_matches) # returns the number of syllable matches\n",
    "\n",
    "def is_complex_word(word:str):\n",
    "    \"\"\"Checks whether a word has three or more syllables.\"\"\"\n",
    "    return count_syllables(word) >= 3"
   ]
  },
  {
   "cell_type": "code",
   "execution_count": 7,
   "metadata": {},
   "outputs": [
    {
     "name": "stdout",
     "output_type": "stream",
     "text": [
      "Number of syllables in word \"Text\": 1\n",
      "Is word \"Text\" complex: False\n",
      "Number of syllables in word \"analysis\": 4\n",
      "Is word \"analysis\" complex?: True\n",
      "Number of syllables in word \"procedure\": 3\n",
      "Is word \"procedure\" complex?: True\n"
     ]
    }
   ],
   "source": [
    "print(\"Number of syllables in word \\\"Text\\\":\",count_syllables(\"Text\"))\n",
    "print(\"Is word \\\"Text\\\" complex:\", is_complex_word(\"Text\"))\n",
    "\n",
    "print(\"Number of syllables in word \\\"analysis\\\":\",count_syllables(\"analysis\"))\n",
    "print(\"Is word \\\"analysis\\\" complex?:\",is_complex_word(\"analysis\"))\n",
    "\n",
    "print(\"Number of syllables in word \\\"procedure\\\":\",count_syllables(\"procedure\"))\n",
    "print(\"Is word \\\"procedure\\\" complex?:\",is_complex_word(\"procedure\"))"
   ]
  },
  {
   "cell_type": "code",
   "execution_count": 10,
   "metadata": {},
   "outputs": [],
   "source": [
    "def calculate_fog(text:str):\n",
    "    \"\"\"Calculates the fog index for a given text (string).\"\"\"\n",
    "    \n",
    "    # extracts all sentences from the input text\n",
    "    sentences = identify_sentences(text) \n",
    "    # extracts all words from the input text\n",
    "    words = identify_words(text) \n",
    "    # creates a list of complex words by using is_complex_word function as a filter\n",
    "    complex_words = list(filter(is_complex_word, words))\n",
    "    return 0.4*(float(len(words))/float(len(sentences)) + 100 * float(len(complex_words))/float(len(words)) ) # calculates and returns the fog index"
   ]
  },
  {
   "cell_type": "code",
   "execution_count": 14,
   "metadata": {},
   "outputs": [
    {
     "name": "stdout",
     "output_type": "stream",
     "text": [
      "The fog index is 21.78965034965035\n"
     ]
    }
   ],
   "source": [
    "fog_score = calculate_fog(text)\n",
    "print(\"The fog index is\", fog_score)"
   ]
  },
  {
   "cell_type": "markdown",
   "metadata": {},
   "source": [
    "### 8.3.2 Using Python Packages to Calculate the Fog Index"
   ]
  },
  {
   "cell_type": "code",
   "execution_count": 15,
   "metadata": {},
   "outputs": [
    {
     "name": "stdout",
     "output_type": "stream",
     "text": [
      "score: 21.78965034965035, grade_level: 'college_graduate'\n"
     ]
    }
   ],
   "source": [
    "# Readability class provides methods to compute various readability metrics \n",
    "from readability import Readability\n",
    "\n",
    "# create a new Readability object with the example text as an input\n",
    "r = Readability(text)\n",
    "\n",
    "# calculate and output the fog index\n",
    "fog_score = r.gunning_fog()\n",
    "print(fog_score)"
   ]
  }
 ],
 "metadata": {
  "kernelspec": {
   "display_name": "Python 3",
   "language": "python",
   "name": "python3"
  },
  "language_info": {
   "codemirror_mode": {
    "name": "ipython",
    "version": 3
   },
   "file_extension": ".py",
   "mimetype": "text/x-python",
   "name": "python",
   "nbconvert_exporter": "python",
   "pygments_lexer": "ipython3",
   "version": "3.7.6"
  }
 },
 "nbformat": 4,
 "nbformat_minor": 4
}

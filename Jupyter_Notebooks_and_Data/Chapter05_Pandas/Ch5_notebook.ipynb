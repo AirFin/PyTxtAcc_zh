{
 "cells": [
  {
   "cell_type": "markdown",
   "metadata": {},
   "source": [
    "# Chapter 5: Sample Notebook"
   ]
  },
  {
   "cell_type": "markdown",
   "metadata": {},
   "source": [
    "This notebook contains all code from Chapter 5: _Working with Tabular Data: The Pandas Package_."
   ]
  },
  {
   "cell_type": "code",
   "execution_count": 1,
   "metadata": {},
   "outputs": [],
   "source": [
    "import numpy as np\n",
    "import pandas as pd"
   ]
  },
  {
   "cell_type": "markdown",
   "metadata": {},
   "source": [
    "## 5.1 The Main Objects in Pandas"
   ]
  },
  {
   "cell_type": "markdown",
   "metadata": {},
   "source": [
    "### 5.1.1 The Pandas DataFrame"
   ]
  },
  {
   "cell_type": "code",
   "execution_count": 2,
   "metadata": {
    "scrolled": true
   },
   "outputs": [
    {
     "data": {
      "text/html": [
       "<div>\n",
       "<style scoped>\n",
       "    .dataframe tbody tr th:only-of-type {\n",
       "        vertical-align: middle;\n",
       "    }\n",
       "\n",
       "    .dataframe tbody tr th {\n",
       "        vertical-align: top;\n",
       "    }\n",
       "\n",
       "    .dataframe thead th {\n",
       "        text-align: right;\n",
       "    }\n",
       "</style>\n",
       "<table border=\"1\" class=\"dataframe\">\n",
       "  <thead>\n",
       "    <tr style=\"text-align: right;\">\n",
       "      <th></th>\n",
       "      <th>GVKEY</th>\n",
       "      <th>FYEAR</th>\n",
       "      <th>TIC</th>\n",
       "      <th>IB</th>\n",
       "      <th>PRCC_F</th>\n",
       "    </tr>\n",
       "  </thead>\n",
       "  <tbody>\n",
       "    <tr>\n",
       "      <th>0</th>\n",
       "      <td>005073</td>\n",
       "      <td>2013</td>\n",
       "      <td>GM</td>\n",
       "      <td>5346.0</td>\n",
       "      <td>40.87</td>\n",
       "    </tr>\n",
       "    <tr>\n",
       "      <th>1</th>\n",
       "      <td>005073</td>\n",
       "      <td>2014</td>\n",
       "      <td>GM</td>\n",
       "      <td>3949.0</td>\n",
       "      <td>34.91</td>\n",
       "    </tr>\n",
       "    <tr>\n",
       "      <th>2</th>\n",
       "      <td>005073</td>\n",
       "      <td>2015</td>\n",
       "      <td>GM</td>\n",
       "      <td>9687.0</td>\n",
       "      <td>34.01</td>\n",
       "    </tr>\n",
       "    <tr>\n",
       "      <th>3</th>\n",
       "      <td>005073</td>\n",
       "      <td>2016</td>\n",
       "      <td>GM</td>\n",
       "      <td>9427.0</td>\n",
       "      <td>34.84</td>\n",
       "    </tr>\n",
       "    <tr>\n",
       "      <th>4</th>\n",
       "      <td>005073</td>\n",
       "      <td>2017</td>\n",
       "      <td>GM</td>\n",
       "      <td>348.0</td>\n",
       "      <td>40.99</td>\n",
       "    </tr>\n",
       "  </tbody>\n",
       "</table>\n",
       "</div>"
      ],
      "text/plain": [
       "    GVKEY  FYEAR TIC      IB  PRCC_F\n",
       "0  005073   2013  GM  5346.0   40.87\n",
       "1  005073   2014  GM  3949.0   34.91\n",
       "2  005073   2015  GM  9687.0   34.01\n",
       "3  005073   2016  GM  9427.0   34.84\n",
       "4  005073   2017  GM   348.0   40.99"
      ]
     },
     "execution_count": 2,
     "metadata": {},
     "output_type": "execute_result"
    }
   ],
   "source": [
    "dfGM = pd.DataFrame({'GVKEY': '005073', \n",
    "                     'FYEAR': np.arange(2013, 2018), \n",
    "                     'TIC': 'GM', \n",
    "                     'IB': [5346.0, 3949, 9687, 9427, 348], \n",
    "                     'PRCC_F': [40.87, 34.91, 34.01, 34.84, 40.99]})\n",
    "dfGM"
   ]
  },
  {
   "cell_type": "markdown",
   "metadata": {},
   "source": [
    "### The Pandas Series"
   ]
  },
  {
   "cell_type": "code",
   "execution_count": 3,
   "metadata": {
    "scrolled": false
   },
   "outputs": [
    {
     "data": {
      "text/plain": [
       "0    5346.0\n",
       "1    3949.0\n",
       "2    9687.0\n",
       "3    9427.0\n",
       "4     348.0\n",
       "Name: IB, dtype: float64"
      ]
     },
     "execution_count": 3,
     "metadata": {},
     "output_type": "execute_result"
    }
   ],
   "source": [
    "dfGM['IB']"
   ]
  },
  {
   "cell_type": "markdown",
   "metadata": {},
   "source": [
    "## 5.3 Importing Data"
   ]
  },
  {
   "cell_type": "markdown",
   "metadata": {},
   "source": [
    "### 5.3.1 Importing Data from Excel"
   ]
  },
  {
   "cell_type": "code",
   "execution_count": 4,
   "metadata": {},
   "outputs": [
    {
     "data": {
      "text/html": [
       "<div>\n",
       "<style scoped>\n",
       "    .dataframe tbody tr th:only-of-type {\n",
       "        vertical-align: middle;\n",
       "    }\n",
       "\n",
       "    .dataframe tbody tr th {\n",
       "        vertical-align: top;\n",
       "    }\n",
       "\n",
       "    .dataframe thead th {\n",
       "        text-align: right;\n",
       "    }\n",
       "</style>\n",
       "<table border=\"1\" class=\"dataframe\">\n",
       "  <thead>\n",
       "    <tr style=\"text-align: right;\">\n",
       "      <th></th>\n",
       "      <th>Company Name</th>\n",
       "      <th>Ticker</th>\n",
       "      <th>Closing Price</th>\n",
       "    </tr>\n",
       "  </thead>\n",
       "  <tbody>\n",
       "    <tr>\n",
       "      <th>0</th>\n",
       "      <td>Microsoft</td>\n",
       "      <td>MSFT</td>\n",
       "      <td>138.43</td>\n",
       "    </tr>\n",
       "    <tr>\n",
       "      <th>1</th>\n",
       "      <td>Apple</td>\n",
       "      <td>AAPL</td>\n",
       "      <td>240.51</td>\n",
       "    </tr>\n",
       "    <tr>\n",
       "      <th>2</th>\n",
       "      <td>Google</td>\n",
       "      <td>GOOG</td>\n",
       "      <td>1246.15</td>\n",
       "    </tr>\n",
       "    <tr>\n",
       "      <th>3</th>\n",
       "      <td>Oracle</td>\n",
       "      <td>ORCL</td>\n",
       "      <td>55.13</td>\n",
       "    </tr>\n",
       "    <tr>\n",
       "      <th>4</th>\n",
       "      <td>SAP</td>\n",
       "      <td>SAP</td>\n",
       "      <td>132.71</td>\n",
       "    </tr>\n",
       "  </tbody>\n",
       "</table>\n",
       "</div>"
      ],
      "text/plain": [
       "  Company Name Ticker  Closing Price\n",
       "0    Microsoft   MSFT         138.43\n",
       "1        Apple   AAPL         240.51\n",
       "2       Google   GOOG        1246.15\n",
       "3       Oracle   ORCL          55.13\n",
       "4          SAP    SAP         132.71"
      ]
     },
     "execution_count": 4,
     "metadata": {},
     "output_type": "execute_result"
    }
   ],
   "source": [
    "import numpy as np\n",
    "import pandas as pd\n",
    "\n",
    "# Assume the Excel file is located in the same folder\n",
    "# as the code file.\n",
    "df = pd.read_excel('Ch5_Data_Example1.xlsx')\n",
    "\n",
    "df"
   ]
  },
  {
   "cell_type": "markdown",
   "metadata": {},
   "source": [
    "#### Using `pd.read_excel` with an Excel Workbook Containing Multiple Worksheets"
   ]
  },
  {
   "cell_type": "code",
   "execution_count": 5,
   "metadata": {
    "scrolled": false
   },
   "outputs": [
    {
     "data": {
      "text/html": [
       "<div>\n",
       "<style scoped>\n",
       "    .dataframe tbody tr th:only-of-type {\n",
       "        vertical-align: middle;\n",
       "    }\n",
       "\n",
       "    .dataframe tbody tr th {\n",
       "        vertical-align: top;\n",
       "    }\n",
       "\n",
       "    .dataframe thead th {\n",
       "        text-align: right;\n",
       "    }\n",
       "</style>\n",
       "<table border=\"1\" class=\"dataframe\">\n",
       "  <thead>\n",
       "    <tr style=\"text-align: right;\">\n",
       "      <th></th>\n",
       "      <th>Company,Name</th>\n",
       "      <th>Ticker</th>\n",
       "      <th>Closing Price</th>\n",
       "    </tr>\n",
       "  </thead>\n",
       "  <tbody>\n",
       "    <tr>\n",
       "      <th>0</th>\n",
       "      <td>Microsoft</td>\n",
       "      <td>MSFT</td>\n",
       "      <td>138.43</td>\n",
       "    </tr>\n",
       "    <tr>\n",
       "      <th>1</th>\n",
       "      <td>Apple</td>\n",
       "      <td>AAPL</td>\n",
       "      <td>240.51</td>\n",
       "    </tr>\n",
       "    <tr>\n",
       "      <th>2</th>\n",
       "      <td>Google</td>\n",
       "      <td>GOOG</td>\n",
       "      <td>1246.15</td>\n",
       "    </tr>\n",
       "    <tr>\n",
       "      <th>3</th>\n",
       "      <td>Oracle</td>\n",
       "      <td>ORCL</td>\n",
       "      <td>55.13</td>\n",
       "    </tr>\n",
       "    <tr>\n",
       "      <th>4</th>\n",
       "      <td>SAP</td>\n",
       "      <td>SAP</td>\n",
       "      <td>132.71</td>\n",
       "    </tr>\n",
       "  </tbody>\n",
       "</table>\n",
       "</div>"
      ],
      "text/plain": [
       "  Company,Name Ticker  Closing Price\n",
       "0    Microsoft   MSFT         138.43\n",
       "1        Apple   AAPL         240.51\n",
       "2       Google   GOOG        1246.15\n",
       "3       Oracle   ORCL          55.13\n",
       "4          SAP    SAP         132.71"
      ]
     },
     "execution_count": 5,
     "metadata": {},
     "output_type": "execute_result"
    }
   ],
   "source": [
    "# Assume pandas has already been imported\n",
    "\n",
    "# Assume the Excel file is located in the same folder\n",
    "# as the code file.\n",
    "df = pd.read_excel('Ch5_Data.xlsx', sheet_name='Other Stocks')\n",
    "df"
   ]
  },
  {
   "cell_type": "markdown",
   "metadata": {},
   "source": [
    "#### Using `pd.read_excel` When the Header Row is Missing"
   ]
  },
  {
   "cell_type": "code",
   "execution_count": 6,
   "metadata": {
    "scrolled": true
   },
   "outputs": [
    {
     "data": {
      "text/html": [
       "<div>\n",
       "<style scoped>\n",
       "    .dataframe tbody tr th:only-of-type {\n",
       "        vertical-align: middle;\n",
       "    }\n",
       "\n",
       "    .dataframe tbody tr th {\n",
       "        vertical-align: top;\n",
       "    }\n",
       "\n",
       "    .dataframe thead th {\n",
       "        text-align: right;\n",
       "    }\n",
       "</style>\n",
       "<table border=\"1\" class=\"dataframe\">\n",
       "  <thead>\n",
       "    <tr style=\"text-align: right;\">\n",
       "      <th></th>\n",
       "      <th>DATADATE</th>\n",
       "      <th>FYEAR</th>\n",
       "      <th>AT</th>\n",
       "      <th>CEQ</th>\n",
       "      <th>IB</th>\n",
       "      <th>PRCC_F_ADJ</th>\n",
       "      <th>ADD1</th>\n",
       "      <th>ZIP</th>\n",
       "      <th>CITY</th>\n",
       "      <th>STATE</th>\n",
       "    </tr>\n",
       "  </thead>\n",
       "  <tbody>\n",
       "    <tr>\n",
       "      <th>0</th>\n",
       "      <td>1986-06-30</td>\n",
       "      <td>1986</td>\n",
       "      <td>170.739</td>\n",
       "      <td>139.332</td>\n",
       "      <td>39.254</td>\n",
       "      <td>0.068926</td>\n",
       "      <td>One Microsoft Way</td>\n",
       "      <td>98052</td>\n",
       "      <td>Redmond</td>\n",
       "      <td>wa</td>\n",
       "    </tr>\n",
       "    <tr>\n",
       "      <th>1</th>\n",
       "      <td>1987-06-30</td>\n",
       "      <td>1987</td>\n",
       "      <td>287.754</td>\n",
       "      <td>239.105</td>\n",
       "      <td>71.878</td>\n",
       "      <td>0.228631</td>\n",
       "      <td>One Microsoft Way</td>\n",
       "      <td>98052</td>\n",
       "      <td>Redmond</td>\n",
       "      <td>wa</td>\n",
       "    </tr>\n",
       "    <tr>\n",
       "      <th>2</th>\n",
       "      <td>1988-06-30</td>\n",
       "      <td>1988</td>\n",
       "      <td>493.019</td>\n",
       "      <td>375.498</td>\n",
       "      <td>123.908</td>\n",
       "      <td>0.300359</td>\n",
       "      <td>One Microsoft Way</td>\n",
       "      <td>98052</td>\n",
       "      <td>Redmond</td>\n",
       "      <td>wa</td>\n",
       "    </tr>\n",
       "    <tr>\n",
       "      <th>3</th>\n",
       "      <td>1989-06-30</td>\n",
       "      <td>1989</td>\n",
       "      <td>720.598</td>\n",
       "      <td>561.780</td>\n",
       "      <td>170.538</td>\n",
       "      <td>0.237597</td>\n",
       "      <td>One Microsoft Way</td>\n",
       "      <td>98052</td>\n",
       "      <td>Redmond</td>\n",
       "      <td>wa</td>\n",
       "    </tr>\n",
       "    <tr>\n",
       "      <th>4</th>\n",
       "      <td>1990-06-30</td>\n",
       "      <td>1990</td>\n",
       "      <td>1105.349</td>\n",
       "      <td>918.563</td>\n",
       "      <td>279.186</td>\n",
       "      <td>0.681410</td>\n",
       "      <td>One Microsoft Way</td>\n",
       "      <td>98052</td>\n",
       "      <td>Redmond</td>\n",
       "      <td>wa</td>\n",
       "    </tr>\n",
       "  </tbody>\n",
       "</table>\n",
       "</div>"
      ],
      "text/plain": [
       "    DATADATE  FYEAR        AT      CEQ       IB  PRCC_F_ADJ  \\\n",
       "0 1986-06-30   1986   170.739  139.332   39.254    0.068926   \n",
       "1 1987-06-30   1987   287.754  239.105   71.878    0.228631   \n",
       "2 1988-06-30   1988   493.019  375.498  123.908    0.300359   \n",
       "3 1989-06-30   1989   720.598  561.780  170.538    0.237597   \n",
       "4 1990-06-30   1990  1105.349  918.563  279.186    0.681410   \n",
       "\n",
       "                ADD1    ZIP        CITY STATE  \n",
       "0  One Microsoft Way  98052    Redmond     wa  \n",
       "1  One Microsoft Way  98052    Redmond     wa  \n",
       "2  One Microsoft Way  98052    Redmond     wa  \n",
       "3  One Microsoft Way  98052    Redmond     wa  \n",
       "4  One Microsoft Way  98052    Redmond     wa  "
      ]
     },
     "execution_count": 6,
     "metadata": {},
     "output_type": "execute_result"
    }
   ],
   "source": [
    "# Assume pandas has already been imported, and the Excel\n",
    "# file is located in the same folder as the code file.\n",
    "df = pd.read_excel('Ch5_Data.xlsx', \n",
    "                   sheet_name='MSFT No Header',\n",
    "                   header=None,\n",
    "                   names=['DATADATE', 'FYEAR', 'AT', 'CEQ', 'IB', \n",
    "                          'PRCC_F_ADJ', 'ADD1', 'ZIP', 'CITY', 'STATE'])\n",
    "df.head()"
   ]
  },
  {
   "cell_type": "markdown",
   "metadata": {},
   "source": [
    "#### Skipping Rows and Blank Lines"
   ]
  },
  {
   "cell_type": "code",
   "execution_count": 7,
   "metadata": {},
   "outputs": [
    {
     "data": {
      "text/html": [
       "<div>\n",
       "<style scoped>\n",
       "    .dataframe tbody tr th:only-of-type {\n",
       "        vertical-align: middle;\n",
       "    }\n",
       "\n",
       "    .dataframe tbody tr th {\n",
       "        vertical-align: top;\n",
       "    }\n",
       "\n",
       "    .dataframe thead th {\n",
       "        text-align: right;\n",
       "    }\n",
       "</style>\n",
       "<table border=\"1\" class=\"dataframe\">\n",
       "  <thead>\n",
       "    <tr style=\"text-align: right;\">\n",
       "      <th></th>\n",
       "      <th>Data Date</th>\n",
       "      <th>Fiscal Year</th>\n",
       "      <th>Assets - Total</th>\n",
       "      <th>Common Equity</th>\n",
       "      <th>Net Income</th>\n",
       "      <th>Adjusted Price Close - Fiscal</th>\n",
       "      <th>Address</th>\n",
       "      <th>ZIP Code</th>\n",
       "      <th>City</th>\n",
       "      <th>State</th>\n",
       "    </tr>\n",
       "  </thead>\n",
       "  <tbody>\n",
       "    <tr>\n",
       "      <th>0</th>\n",
       "      <td>1986-06-30</td>\n",
       "      <td>1986</td>\n",
       "      <td>170.739</td>\n",
       "      <td>139.332</td>\n",
       "      <td>39.254</td>\n",
       "      <td>0.068926</td>\n",
       "      <td>One Microsoft Way</td>\n",
       "      <td>98052</td>\n",
       "      <td>Redmond</td>\n",
       "      <td>wa</td>\n",
       "    </tr>\n",
       "    <tr>\n",
       "      <th>1</th>\n",
       "      <td>1987-06-30</td>\n",
       "      <td>1987</td>\n",
       "      <td>287.754</td>\n",
       "      <td>239.105</td>\n",
       "      <td>71.878</td>\n",
       "      <td>0.228631</td>\n",
       "      <td>One Microsoft Way</td>\n",
       "      <td>98052</td>\n",
       "      <td>Redmond</td>\n",
       "      <td>wa</td>\n",
       "    </tr>\n",
       "    <tr>\n",
       "      <th>2</th>\n",
       "      <td>1988-06-30</td>\n",
       "      <td>1988</td>\n",
       "      <td>493.019</td>\n",
       "      <td>375.498</td>\n",
       "      <td>123.908</td>\n",
       "      <td>0.300359</td>\n",
       "      <td>One Microsoft Way</td>\n",
       "      <td>98052</td>\n",
       "      <td>Redmond</td>\n",
       "      <td>wa</td>\n",
       "    </tr>\n",
       "    <tr>\n",
       "      <th>3</th>\n",
       "      <td>1989-06-30</td>\n",
       "      <td>1989</td>\n",
       "      <td>720.598</td>\n",
       "      <td>561.780</td>\n",
       "      <td>170.538</td>\n",
       "      <td>0.237597</td>\n",
       "      <td>One Microsoft Way</td>\n",
       "      <td>98052</td>\n",
       "      <td>Redmond</td>\n",
       "      <td>wa</td>\n",
       "    </tr>\n",
       "    <tr>\n",
       "      <th>4</th>\n",
       "      <td>1990-06-30</td>\n",
       "      <td>1990</td>\n",
       "      <td>1105.349</td>\n",
       "      <td>918.563</td>\n",
       "      <td>279.186</td>\n",
       "      <td>0.681410</td>\n",
       "      <td>One Microsoft Way</td>\n",
       "      <td>98052</td>\n",
       "      <td>Redmond</td>\n",
       "      <td>wa</td>\n",
       "    </tr>\n",
       "  </tbody>\n",
       "</table>\n",
       "</div>"
      ],
      "text/plain": [
       "   Data Date  Fiscal Year  Assets - Total  Common Equity  Net Income  \\\n",
       "0 1986-06-30         1986         170.739        139.332      39.254   \n",
       "1 1987-06-30         1987         287.754        239.105      71.878   \n",
       "2 1988-06-30         1988         493.019        375.498     123.908   \n",
       "3 1989-06-30         1989         720.598        561.780     170.538   \n",
       "4 1990-06-30         1990        1105.349        918.563     279.186   \n",
       "\n",
       "   Adjusted Price Close - Fiscal            Address  ZIP Code        City  \\\n",
       "0                       0.068926  One Microsoft Way     98052    Redmond    \n",
       "1                       0.228631  One Microsoft Way     98052    Redmond    \n",
       "2                       0.300359  One Microsoft Way     98052    Redmond    \n",
       "3                       0.237597  One Microsoft Way     98052    Redmond    \n",
       "4                       0.681410  One Microsoft Way     98052    Redmond    \n",
       "\n",
       "  State  \n",
       "0    wa  \n",
       "1    wa  \n",
       "2    wa  \n",
       "3    wa  \n",
       "4    wa  "
      ]
     },
     "execution_count": 7,
     "metadata": {},
     "output_type": "execute_result"
    }
   ],
   "source": [
    "# Assume pandas has already been imported, and the Excel\n",
    "# file is located in the same folder as the code file.\n",
    "df = pd.read_excel('Ch5_Data.xlsx', \n",
    "                   sheet_name='MSFT Extraneous Lines',\n",
    "                   skiprows=5)\n",
    "df.head()"
   ]
  },
  {
   "cell_type": "code",
   "execution_count": 8,
   "metadata": {},
   "outputs": [
    {
     "data": {
      "text/html": [
       "<div>\n",
       "<style scoped>\n",
       "    .dataframe tbody tr th:only-of-type {\n",
       "        vertical-align: middle;\n",
       "    }\n",
       "\n",
       "    .dataframe tbody tr th {\n",
       "        vertical-align: top;\n",
       "    }\n",
       "\n",
       "    .dataframe thead th {\n",
       "        text-align: right;\n",
       "    }\n",
       "</style>\n",
       "<table border=\"1\" class=\"dataframe\">\n",
       "  <thead>\n",
       "    <tr style=\"text-align: right;\">\n",
       "      <th></th>\n",
       "      <th>Data Date</th>\n",
       "      <th>Fiscal Year</th>\n",
       "      <th>Assets - Total</th>\n",
       "      <th>Common Equity</th>\n",
       "      <th>Net Income</th>\n",
       "      <th>Adjusted Price Close - Fiscal</th>\n",
       "      <th>Address</th>\n",
       "      <th>ZIP Code</th>\n",
       "      <th>City</th>\n",
       "      <th>State</th>\n",
       "    </tr>\n",
       "  </thead>\n",
       "  <tbody>\n",
       "    <tr>\n",
       "      <th>0</th>\n",
       "      <td>1986-06-30</td>\n",
       "      <td>1986</td>\n",
       "      <td>170.739</td>\n",
       "      <td>139.332</td>\n",
       "      <td>39.254</td>\n",
       "      <td>0.068926</td>\n",
       "      <td>One Microsoft Way</td>\n",
       "      <td>98052</td>\n",
       "      <td>Redmond</td>\n",
       "      <td>wa</td>\n",
       "    </tr>\n",
       "    <tr>\n",
       "      <th>1</th>\n",
       "      <td>1987-06-30</td>\n",
       "      <td>1987</td>\n",
       "      <td>287.754</td>\n",
       "      <td>239.105</td>\n",
       "      <td>71.878</td>\n",
       "      <td>0.228631</td>\n",
       "      <td>One Microsoft Way</td>\n",
       "      <td>98052</td>\n",
       "      <td>Redmond</td>\n",
       "      <td>wa</td>\n",
       "    </tr>\n",
       "    <tr>\n",
       "      <th>2</th>\n",
       "      <td>1988-06-30</td>\n",
       "      <td>1988</td>\n",
       "      <td>493.019</td>\n",
       "      <td>375.498</td>\n",
       "      <td>123.908</td>\n",
       "      <td>0.300359</td>\n",
       "      <td>One Microsoft Way</td>\n",
       "      <td>98052</td>\n",
       "      <td>Redmond</td>\n",
       "      <td>wa</td>\n",
       "    </tr>\n",
       "    <tr>\n",
       "      <th>3</th>\n",
       "      <td>1989-06-30</td>\n",
       "      <td>1989</td>\n",
       "      <td>720.598</td>\n",
       "      <td>561.780</td>\n",
       "      <td>170.538</td>\n",
       "      <td>0.237597</td>\n",
       "      <td>One Microsoft Way</td>\n",
       "      <td>98052</td>\n",
       "      <td>Redmond</td>\n",
       "      <td>wa</td>\n",
       "    </tr>\n",
       "    <tr>\n",
       "      <th>4</th>\n",
       "      <td>1990-06-30</td>\n",
       "      <td>1990</td>\n",
       "      <td>1105.349</td>\n",
       "      <td>918.563</td>\n",
       "      <td>279.186</td>\n",
       "      <td>0.681410</td>\n",
       "      <td>One Microsoft Way</td>\n",
       "      <td>98052</td>\n",
       "      <td>Redmond</td>\n",
       "      <td>wa</td>\n",
       "    </tr>\n",
       "  </tbody>\n",
       "</table>\n",
       "</div>"
      ],
      "text/plain": [
       "   Data Date  Fiscal Year  Assets - Total  Common Equity  Net Income  \\\n",
       "0 1986-06-30         1986         170.739        139.332      39.254   \n",
       "1 1987-06-30         1987         287.754        239.105      71.878   \n",
       "2 1988-06-30         1988         493.019        375.498     123.908   \n",
       "3 1989-06-30         1989         720.598        561.780     170.538   \n",
       "4 1990-06-30         1990        1105.349        918.563     279.186   \n",
       "\n",
       "   Adjusted Price Close - Fiscal            Address  ZIP Code        City  \\\n",
       "0                       0.068926  One Microsoft Way     98052    Redmond    \n",
       "1                       0.228631  One Microsoft Way     98052    Redmond    \n",
       "2                       0.300359  One Microsoft Way     98052    Redmond    \n",
       "3                       0.237597  One Microsoft Way     98052    Redmond    \n",
       "4                       0.681410  One Microsoft Way     98052    Redmond    \n",
       "\n",
       "  State  \n",
       "0    wa  \n",
       "1    wa  \n",
       "2    wa  \n",
       "3    wa  \n",
       "4    wa  "
      ]
     },
     "execution_count": 8,
     "metadata": {},
     "output_type": "execute_result"
    }
   ],
   "source": [
    "# Assume pandas has already been imported, and the Excel\n",
    "# file is located in the same folder as the code file.\n",
    "df = pd.read_excel('Ch5_Data.xlsx', \n",
    "                   sheet_name='MSFT Extraneous Lines',\n",
    "                   skiprows=5)\n",
    "df.head()"
   ]
  },
  {
   "cell_type": "markdown",
   "metadata": {},
   "source": [
    "#### Getting Help with `pd.read_excel`"
   ]
  },
  {
   "cell_type": "code",
   "execution_count": null,
   "metadata": {
    "scrolled": false
   },
   "outputs": [],
   "source": [
    "help(pd.read_excel)"
   ]
  },
  {
   "cell_type": "markdown",
   "metadata": {},
   "source": [
    "### 5.3.2 Importing Data from a CSV file"
   ]
  },
  {
   "cell_type": "markdown",
   "metadata": {},
   "source": [
    "#### Converting Accounting Strings to `float`"
   ]
  },
  {
   "cell_type": "code",
   "execution_count": 10,
   "metadata": {
    "scrolled": true
   },
   "outputs": [
    {
     "data": {
      "text/html": [
       "<div>\n",
       "<style scoped>\n",
       "    .dataframe tbody tr th:only-of-type {\n",
       "        vertical-align: middle;\n",
       "    }\n",
       "\n",
       "    .dataframe tbody tr th {\n",
       "        vertical-align: top;\n",
       "    }\n",
       "\n",
       "    .dataframe thead th {\n",
       "        text-align: right;\n",
       "    }\n",
       "</style>\n",
       "<table border=\"1\" class=\"dataframe\">\n",
       "  <thead>\n",
       "    <tr style=\"text-align: right;\">\n",
       "      <th></th>\n",
       "      <th>Year</th>\n",
       "      <th>Income</th>\n",
       "    </tr>\n",
       "  </thead>\n",
       "  <tbody>\n",
       "    <tr>\n",
       "      <th>0</th>\n",
       "      <td>2016</td>\n",
       "      <td>-16798.0</td>\n",
       "    </tr>\n",
       "    <tr>\n",
       "      <th>1</th>\n",
       "      <td>2017</td>\n",
       "      <td>21204.0</td>\n",
       "    </tr>\n",
       "    <tr>\n",
       "      <th>2</th>\n",
       "      <td>2018</td>\n",
       "      <td>-16571.0</td>\n",
       "    </tr>\n",
       "    <tr>\n",
       "      <th>3</th>\n",
       "      <td>2019</td>\n",
       "      <td>39240.0</td>\n",
       "    </tr>\n",
       "  </tbody>\n",
       "</table>\n",
       "</div>"
      ],
      "text/plain": [
       "   Year   Income\n",
       "0  2016 -16798.0\n",
       "1  2017  21204.0\n",
       "2  2018 -16571.0\n",
       "3  2019  39240.0"
      ]
     },
     "execution_count": 10,
     "metadata": {},
     "output_type": "execute_result"
    }
   ],
   "source": [
    "import numpy as np\n",
    "import pandas as pd\n",
    "\n",
    "# Assume the file is in the same folder\n",
    "df = pd.read_csv('Ch5_Acctg_Format.csv')\n",
    "\n",
    "# Remove comma, right parenthesis, dollar sign\n",
    "df['Income'] = df['Income'].str.replace('[,\\)\\$]', '', regex=True)\n",
    "# Replace left parenthesis with negative sign\n",
    "df['Income'] = df['Income'].str.replace('(', '-')\n",
    "# Convert column to float\n",
    "df['Income'] = df['Income'].astype(float)\n",
    "\n",
    "df"
   ]
  },
  {
   "cell_type": "markdown",
   "metadata": {},
   "source": [
    "#### Parsing Dates"
   ]
  },
  {
   "cell_type": "code",
   "execution_count": 11,
   "metadata": {},
   "outputs": [
    {
     "data": {
      "text/html": [
       "<div>\n",
       "<style scoped>\n",
       "    .dataframe tbody tr th:only-of-type {\n",
       "        vertical-align: middle;\n",
       "    }\n",
       "\n",
       "    .dataframe tbody tr th {\n",
       "        vertical-align: top;\n",
       "    }\n",
       "\n",
       "    .dataframe thead th {\n",
       "        text-align: right;\n",
       "    }\n",
       "</style>\n",
       "<table border=\"1\" class=\"dataframe\">\n",
       "  <thead>\n",
       "    <tr style=\"text-align: right;\">\n",
       "      <th></th>\n",
       "      <th>Date1</th>\n",
       "      <th>Date2</th>\n",
       "      <th>Date3</th>\n",
       "      <th>Company Name</th>\n",
       "      <th>Ticker</th>\n",
       "      <th>Closing Price</th>\n",
       "    </tr>\n",
       "  </thead>\n",
       "  <tbody>\n",
       "    <tr>\n",
       "      <th>0</th>\n",
       "      <td>2019-04-08</td>\n",
       "      <td>8/4/2019</td>\n",
       "      <td>08 Apr 19</td>\n",
       "      <td>General Motors</td>\n",
       "      <td>GM</td>\n",
       "      <td>39.06</td>\n",
       "    </tr>\n",
       "    <tr>\n",
       "      <th>1</th>\n",
       "      <td>2019-04-09</td>\n",
       "      <td>9/4/2019</td>\n",
       "      <td>09 Apr 19</td>\n",
       "      <td>General Motors</td>\n",
       "      <td>GM</td>\n",
       "      <td>38.86</td>\n",
       "    </tr>\n",
       "    <tr>\n",
       "      <th>2</th>\n",
       "      <td>2019-04-10</td>\n",
       "      <td>10/4/2019</td>\n",
       "      <td>10 Apr 19</td>\n",
       "      <td>General Motors</td>\n",
       "      <td>GM</td>\n",
       "      <td>39.25</td>\n",
       "    </tr>\n",
       "  </tbody>\n",
       "</table>\n",
       "</div>"
      ],
      "text/plain": [
       "       Date1      Date2      Date3    Company Name Ticker  Closing Price\n",
       "0 2019-04-08   8/4/2019  08 Apr 19  General Motors     GM          39.06\n",
       "1 2019-04-09   9/4/2019  09 Apr 19  General Motors     GM          38.86\n",
       "2 2019-04-10  10/4/2019  10 Apr 19  General Motors     GM          39.25"
      ]
     },
     "execution_count": 11,
     "metadata": {},
     "output_type": "execute_result"
    }
   ],
   "source": [
    "dfDates = pd.read_csv('Ch5_Dates.csv', parse_dates=['Date1'])\n",
    "dfDates"
   ]
  },
  {
   "cell_type": "code",
   "execution_count": 12,
   "metadata": {},
   "outputs": [
    {
     "data": {
      "text/html": [
       "<div>\n",
       "<style scoped>\n",
       "    .dataframe tbody tr th:only-of-type {\n",
       "        vertical-align: middle;\n",
       "    }\n",
       "\n",
       "    .dataframe tbody tr th {\n",
       "        vertical-align: top;\n",
       "    }\n",
       "\n",
       "    .dataframe thead th {\n",
       "        text-align: right;\n",
       "    }\n",
       "</style>\n",
       "<table border=\"1\" class=\"dataframe\">\n",
       "  <thead>\n",
       "    <tr style=\"text-align: right;\">\n",
       "      <th></th>\n",
       "      <th>Date1</th>\n",
       "      <th>Date2</th>\n",
       "      <th>Date3</th>\n",
       "      <th>Company Name</th>\n",
       "      <th>Ticker</th>\n",
       "      <th>Closing Price</th>\n",
       "    </tr>\n",
       "  </thead>\n",
       "  <tbody>\n",
       "    <tr>\n",
       "      <th>0</th>\n",
       "      <td>2019-04-08</td>\n",
       "      <td>8/4/2019</td>\n",
       "      <td>2019-04-08</td>\n",
       "      <td>General Motors</td>\n",
       "      <td>GM</td>\n",
       "      <td>39.06</td>\n",
       "    </tr>\n",
       "    <tr>\n",
       "      <th>1</th>\n",
       "      <td>2019-04-09</td>\n",
       "      <td>9/4/2019</td>\n",
       "      <td>2019-04-09</td>\n",
       "      <td>General Motors</td>\n",
       "      <td>GM</td>\n",
       "      <td>38.86</td>\n",
       "    </tr>\n",
       "    <tr>\n",
       "      <th>2</th>\n",
       "      <td>2019-04-10</td>\n",
       "      <td>10/4/2019</td>\n",
       "      <td>2019-04-10</td>\n",
       "      <td>General Motors</td>\n",
       "      <td>GM</td>\n",
       "      <td>39.25</td>\n",
       "    </tr>\n",
       "  </tbody>\n",
       "</table>\n",
       "</div>"
      ],
      "text/plain": [
       "       Date1      Date2      Date3    Company Name Ticker  Closing Price\n",
       "0 2019-04-08   8/4/2019 2019-04-08  General Motors     GM          39.06\n",
       "1 2019-04-09   9/4/2019 2019-04-09  General Motors     GM          38.86\n",
       "2 2019-04-10  10/4/2019 2019-04-10  General Motors     GM          39.25"
      ]
     },
     "execution_count": 12,
     "metadata": {},
     "output_type": "execute_result"
    }
   ],
   "source": [
    "dfDates = pd.read_csv('Ch5_Dates.csv', parse_dates=['Date1', 'Date3'], infer_datetime_format=True)\n",
    "dfDates"
   ]
  },
  {
   "cell_type": "code",
   "execution_count": 13,
   "metadata": {
    "scrolled": false
   },
   "outputs": [
    {
     "data": {
      "text/html": [
       "<div>\n",
       "<style scoped>\n",
       "    .dataframe tbody tr th:only-of-type {\n",
       "        vertical-align: middle;\n",
       "    }\n",
       "\n",
       "    .dataframe tbody tr th {\n",
       "        vertical-align: top;\n",
       "    }\n",
       "\n",
       "    .dataframe thead th {\n",
       "        text-align: right;\n",
       "    }\n",
       "</style>\n",
       "<table border=\"1\" class=\"dataframe\">\n",
       "  <thead>\n",
       "    <tr style=\"text-align: right;\">\n",
       "      <th></th>\n",
       "      <th>Date1</th>\n",
       "      <th>Date2</th>\n",
       "      <th>Date3</th>\n",
       "      <th>Company Name</th>\n",
       "      <th>Ticker</th>\n",
       "      <th>Closing Price</th>\n",
       "    </tr>\n",
       "  </thead>\n",
       "  <tbody>\n",
       "    <tr>\n",
       "      <th>0</th>\n",
       "      <td>2019-04-08</td>\n",
       "      <td>2019-04-08</td>\n",
       "      <td>2019-04-08</td>\n",
       "      <td>General Motors</td>\n",
       "      <td>GM</td>\n",
       "      <td>39.06</td>\n",
       "    </tr>\n",
       "    <tr>\n",
       "      <th>1</th>\n",
       "      <td>2019-04-09</td>\n",
       "      <td>2019-04-09</td>\n",
       "      <td>2019-04-09</td>\n",
       "      <td>General Motors</td>\n",
       "      <td>GM</td>\n",
       "      <td>38.86</td>\n",
       "    </tr>\n",
       "    <tr>\n",
       "      <th>2</th>\n",
       "      <td>2019-04-10</td>\n",
       "      <td>2019-04-10</td>\n",
       "      <td>2019-04-10</td>\n",
       "      <td>General Motors</td>\n",
       "      <td>GM</td>\n",
       "      <td>39.25</td>\n",
       "    </tr>\n",
       "  </tbody>\n",
       "</table>\n",
       "</div>"
      ],
      "text/plain": [
       "       Date1      Date2      Date3    Company Name Ticker  Closing Price\n",
       "0 2019-04-08 2019-04-08 2019-04-08  General Motors     GM          39.06\n",
       "1 2019-04-09 2019-04-09 2019-04-09  General Motors     GM          38.86\n",
       "2 2019-04-10 2019-04-10 2019-04-10  General Motors     GM          39.25"
      ]
     },
     "execution_count": 13,
     "metadata": {},
     "output_type": "execute_result"
    }
   ],
   "source": [
    "dfDates['Date2'] = pd.to_datetime(dfDates['Date2'], format='%d/%m/%Y')\n",
    "dfDates"
   ]
  },
  {
   "cell_type": "markdown",
   "metadata": {},
   "source": [
    "### 5.3.5 Manually Creating a DataFrame"
   ]
  },
  {
   "cell_type": "code",
   "execution_count": 14,
   "metadata": {},
   "outputs": [
    {
     "name": "stdout",
     "output_type": "stream",
     "text": [
      "Series s:\n",
      "0    1\n",
      "1    2\n",
      "2    3\n",
      "3    4\n",
      "dtype: int64\n",
      "\n",
      "DataFrame df:\n",
      "   X  X_sq\n",
      "0  1     1\n",
      "1  2     4\n",
      "2  3     9\n",
      "3  4    16\n"
     ]
    }
   ],
   "source": [
    "s = pd.Series([1,2,3,4])\n",
    "print(f'Series s:\\n{s}\\n')\n",
    "\n",
    "df = pd.DataFrame({'X': [1,2,3,4], 'X_sq': [1,4,9,16]})\n",
    "print(f'DataFrame df:\\n{df}')"
   ]
  },
  {
   "cell_type": "markdown",
   "metadata": {},
   "source": [
    "## 5.5 Selecting and Filtering Data"
   ]
  },
  {
   "cell_type": "markdown",
   "metadata": {},
   "source": [
    "### 5.5.1 Retrieving One or More Columns as a DataFrame"
   ]
  },
  {
   "cell_type": "markdown",
   "metadata": {},
   "source": [
    "#### Retrieving One or More Columns as a DataFrame"
   ]
  },
  {
   "cell_type": "code",
   "execution_count": 16,
   "metadata": {
    "scrolled": true
   },
   "outputs": [
    {
     "name": "stdout",
     "output_type": "stream",
     "text": [
      "    Fiscal Year  Net Income\n",
      "31         2017     21204.0\n",
      "32         2018     16571.0\n",
      "33         2019     39240.0\n"
     ]
    }
   ],
   "source": [
    "import numpy as np\n",
    "import pandas as pd\n",
    "\n",
    "df = pd.read_excel('Ch5_Data.xlsx', sheet_name='MSFT Clean')\n",
    "\n",
    "# Get the fiscal year and net income columns\n",
    "# Save the results to a new DataFrame\n",
    "df_Selected = df[['Fiscal Year', 'Net Income']]\n",
    "\n",
    "print(df_Selected.tail(3))"
   ]
  },
  {
   "cell_type": "markdown",
   "metadata": {},
   "source": [
    "#### Retrieving a Single Column as a Series"
   ]
  },
  {
   "cell_type": "code",
   "execution_count": 17,
   "metadata": {},
   "outputs": [
    {
     "name": "stdout",
     "output_type": "stream",
     "text": [
      "<class 'pandas.core.frame.DataFrame'>\n",
      "<class 'pandas.core.series.Series'>\n"
     ]
    }
   ],
   "source": [
    "import pandas as pd\n",
    "df = pd.DataFrame({'x': [1,2,3], 'xsq': [1,4,9]})\n",
    "\n",
    "# Double brackets returns a DataFrame\n",
    "print(type(df[['x']]))\n",
    "# Single brackets returns a Series\n",
    "print(type(df['x']))"
   ]
  },
  {
   "cell_type": "markdown",
   "metadata": {},
   "source": [
    "### 5.5.2 Testing the Values in a Series"
   ]
  },
  {
   "cell_type": "markdown",
   "metadata": {},
   "source": [
    "#### Comparing a Series to a Numeric Constant"
   ]
  },
  {
   "cell_type": "code",
   "execution_count": 18,
   "metadata": {
    "scrolled": true
   },
   "outputs": [
    {
     "data": {
      "text/plain": [
       "0     False\n",
       "1     False\n",
       "2     False\n",
       "3     False\n",
       "4     False\n",
       "5     False\n",
       "6     False\n",
       "7     False\n",
       "8     False\n",
       "9     False\n",
       "10    False\n",
       "11    False\n",
       "12    False\n",
       "13    False\n",
       "14    False\n",
       "15    False\n",
       "16    False\n",
       "17    False\n",
       "18    False\n",
       "19    False\n",
       "20    False\n",
       "21    False\n",
       "22    False\n",
       "23    False\n",
       "24    False\n",
       "25    False\n",
       "26    False\n",
       "27    False\n",
       "28    False\n",
       "29     True\n",
       "30     True\n",
       "31     True\n",
       "32     True\n",
       "33     True\n",
       "Name: Fiscal Year, dtype: bool"
      ]
     },
     "execution_count": 18,
     "metadata": {},
     "output_type": "execute_result"
    }
   ],
   "source": [
    "import numpy as np\n",
    "import pandas as pd\n",
    "\n",
    "df = pd.read_excel('Ch5_Data.xlsx', sheet_name='MSFT Clean')\n",
    "df['Fiscal Year'] > 2014"
   ]
  },
  {
   "cell_type": "markdown",
   "metadata": {},
   "source": [
    "#### Comparing a Series to another Series"
   ]
  },
  {
   "cell_type": "code",
   "execution_count": 19,
   "metadata": {},
   "outputs": [
    {
     "data": {
      "text/plain": [
       "True"
      ]
     },
     "execution_count": 19,
     "metadata": {},
     "output_type": "execute_result"
    }
   ],
   "source": [
    "import numpy as np\n",
    "import pandas as pd\n",
    "\n",
    "df = pd.read_excel('Ch5_Data.xlsx', sheet_name='MSFT Clean')\n",
    "# Compare assets to equity. Save results in new_Series\n",
    "new_Series = df['Assets - Total'] > df['Common Equity']\n",
    "# Check whether all values in new_Series are True\n",
    "new_Series.all()"
   ]
  },
  {
   "cell_type": "markdown",
   "metadata": {},
   "source": [
    "### 5.3.3 Filtering a DataFrame"
   ]
  },
  {
   "cell_type": "code",
   "execution_count": 20,
   "metadata": {
    "scrolled": true
   },
   "outputs": [
    {
     "name": "stdout",
     "output_type": "stream",
     "text": [
      "df, unfiltered:\n",
      "  col1  col2\n",
      "0    a     1\n",
      "1    b     2\n",
      "2    c     3\n",
      "\n",
      "df filtered using sBool:\n",
      "  col1  col2\n",
      "0    a     1\n",
      "2    c     3\n"
     ]
    }
   ],
   "source": [
    "import pandas as pd\n",
    "\n",
    "# Create a simple DataFrame\n",
    "df = pd.DataFrame({'col1': ['a','b','c'], \n",
    "                   'col2': [1,2,3]})\n",
    "print(f'df, unfiltered:\\n{df}\\n')\n",
    "\n",
    "# Create a Boolean Series\n",
    "sBool = pd.Series([True, False, True])\n",
    "\n",
    "# Filter df using sBool\n",
    "df_filt = df[sBool]\n",
    "print(f'df filtered using sBool:\\n{df_filt}')"
   ]
  },
  {
   "cell_type": "markdown",
   "metadata": {},
   "source": [
    "#### Filtering with a Single Condition"
   ]
  },
  {
   "cell_type": "code",
   "execution_count": 21,
   "metadata": {
    "scrolled": true
   },
   "outputs": [
    {
     "data": {
      "text/html": [
       "<div>\n",
       "<style scoped>\n",
       "    .dataframe tbody tr th:only-of-type {\n",
       "        vertical-align: middle;\n",
       "    }\n",
       "\n",
       "    .dataframe tbody tr th {\n",
       "        vertical-align: top;\n",
       "    }\n",
       "\n",
       "    .dataframe thead th {\n",
       "        text-align: right;\n",
       "    }\n",
       "</style>\n",
       "<table border=\"1\" class=\"dataframe\">\n",
       "  <thead>\n",
       "    <tr style=\"text-align: right;\">\n",
       "      <th></th>\n",
       "      <th>Company Name</th>\n",
       "      <th>Ticker</th>\n",
       "      <th>Closing Price</th>\n",
       "    </tr>\n",
       "  </thead>\n",
       "  <tbody>\n",
       "    <tr>\n",
       "      <th>0</th>\n",
       "      <td>Microsoft</td>\n",
       "      <td>MSFT</td>\n",
       "      <td>138.43</td>\n",
       "    </tr>\n",
       "  </tbody>\n",
       "</table>\n",
       "</div>"
      ],
      "text/plain": [
       "  Company Name Ticker  Closing Price\n",
       "0    Microsoft   MSFT         138.43"
      ]
     },
     "execution_count": 21,
     "metadata": {},
     "output_type": "execute_result"
    }
   ],
   "source": [
    "import pandas as pd\n",
    "# Assume the data file is in the same folder\n",
    "df = pd.read_excel('Ch5_Data_Example1.xlsx')\n",
    "\n",
    "df[df['Ticker'] == 'MSFT']"
   ]
  },
  {
   "cell_type": "markdown",
   "metadata": {},
   "source": [
    "#### Filtering with Multiple Conditions"
   ]
  },
  {
   "cell_type": "code",
   "execution_count": 22,
   "metadata": {},
   "outputs": [],
   "source": [
    "import pandas as pd\n",
    "# Assumes the Excel file is in the same folder\n",
    "df = pd.read_excel('Ch5_Data.xlsx', \n",
    "                   sheet_name='MSFT Clean')\n",
    "\n",
    "# Filter 1: FY > 2013 and CEQ > $80 bil\n",
    "df1 = df[(df['Fiscal Year'] > 2013) & \n",
    "         (df['Common Equity'] > 80000)]\n",
    "\n",
    "# Filter2: FY < 1990 or FY > 2015\n",
    "df2 = df[(df['Fiscal Year'] < 1990) | \n",
    "         (df['Fiscal Year'] > 2015)]"
   ]
  },
  {
   "cell_type": "markdown",
   "metadata": {},
   "source": [
    "## 5.6 Creating New Columns"
   ]
  },
  {
   "cell_type": "markdown",
   "metadata": {},
   "source": [
    "###  5.6.1 Creating a Column from a Scalar Value"
   ]
  },
  {
   "cell_type": "code",
   "execution_count": 23,
   "metadata": {
    "scrolled": false
   },
   "outputs": [
    {
     "name": "stdout",
     "output_type": "stream",
     "text": [
      "   col1  newcol\n",
      "0     1       5\n",
      "1     2       5\n",
      "2     3       5\n"
     ]
    }
   ],
   "source": [
    "df = pd.DataFrame({'col1': [1,2,3]})\n",
    "df['newcol'] = 5\n",
    "print(df)"
   ]
  },
  {
   "cell_type": "markdown",
   "metadata": {},
   "source": [
    "###  5.6.2 Creating a Column from a List"
   ]
  },
  {
   "cell_type": "code",
   "execution_count": 24,
   "metadata": {
    "scrolled": false
   },
   "outputs": [
    {
     "name": "stdout",
     "output_type": "stream",
     "text": [
      "   col1 newcol\n",
      "0     1      a\n",
      "1     2      b\n",
      "2     3      c\n"
     ]
    }
   ],
   "source": [
    "df = pd.DataFrame({'col1': [1,2,3]})\n",
    "df['newcol'] = ['a','b','c']\n",
    "print(df)"
   ]
  },
  {
   "cell_type": "markdown",
   "metadata": {},
   "source": [
    "### 5.6.3 Creating a Column as a Transformation of an Existing Column"
   ]
  },
  {
   "cell_type": "code",
   "execution_count": 25,
   "metadata": {},
   "outputs": [],
   "source": [
    "import numpy as np\n",
    "import pandas as pd\n",
    "# Assume the file resides in the same\n",
    "# folder as the code.\n",
    "df = pd.read_excel('Ch5_Data.xlsx', \n",
    "                   sheet_name=\"MSFT Clean\")"
   ]
  },
  {
   "cell_type": "markdown",
   "metadata": {},
   "source": [
    "#### Example: Strip Whitespace from a String Column in Place"
   ]
  },
  {
   "cell_type": "code",
   "execution_count": 26,
   "metadata": {},
   "outputs": [],
   "source": [
    "df['City'] = df['City'].str.strip()"
   ]
  },
  {
   "cell_type": "markdown",
   "metadata": {},
   "source": [
    "#### Example: Convert a String Column to Uppercase in Place"
   ]
  },
  {
   "cell_type": "code",
   "execution_count": 27,
   "metadata": {},
   "outputs": [],
   "source": [
    "df['State'] = df['State'].str.upper()"
   ]
  },
  {
   "cell_type": "markdown",
   "metadata": {},
   "source": [
    "#### Example: Convert a Numeric Column from Millions to Actual"
   ]
  },
  {
   "cell_type": "code",
   "execution_count": 28,
   "metadata": {},
   "outputs": [],
   "source": [
    "for col in ['Assets - Total', \n",
    "            'Common Equity', \n",
    "            'Net Income']:\n",
    "    df[f'{col} ACTUAL'] = df[col] * 1000000"
   ]
  },
  {
   "cell_type": "markdown",
   "metadata": {},
   "source": [
    "### 5.6.4 Creating a Column as a Combination of Multiple Columns"
   ]
  },
  {
   "cell_type": "code",
   "execution_count": 29,
   "metadata": {},
   "outputs": [],
   "source": [
    "# Compute ROA\n",
    "df['ROA'] = df['Net Income'] / df['Assets - Total']\n",
    "\n",
    "# Compute full address\n",
    "df['Full Address'] = df['Address'] + '\\n' + df['City'] + ', ' + df['State'] + ' ' + df['ZIP Code'].astype(str)"
   ]
  },
  {
   "cell_type": "markdown",
   "metadata": {},
   "source": [
    "## 5.7 Dropping and Renaming Columns"
   ]
  },
  {
   "cell_type": "markdown",
   "metadata": {},
   "source": [
    "### 5.7.2 Renaming Columns"
   ]
  },
  {
   "cell_type": "code",
   "execution_count": 30,
   "metadata": {},
   "outputs": [
    {
     "name": "stdout",
     "output_type": "stream",
     "text": [
      "   X  Xsq\n",
      "0  1    1\n",
      "1  2    4\n",
      "2  3    9\n"
     ]
    }
   ],
   "source": [
    "# Create a simple DataFrame\n",
    "df = pd.DataFrame({'col1': [1,2,3], 'col2': [1,4,9]})\n",
    "# Rename col1 to X and col2 to X_sq\n",
    "df = df.rename(columns={'col1': 'X', 'col2': 'Xsq'})\n",
    "print(df)"
   ]
  },
  {
   "cell_type": "markdown",
   "metadata": {},
   "source": [
    "## 5.8 Sorting Data"
   ]
  },
  {
   "cell_type": "code",
   "execution_count": 36,
   "metadata": {},
   "outputs": [
    {
     "name": "stdout",
     "output_type": "stream",
     "text": [
      "   Y  X\n",
      "3  b  1\n",
      "0  b  2\n",
      "2  a  3\n",
      "1  a  4\n"
     ]
    }
   ],
   "source": [
    "# Create a simple DataFrame\n",
    "df = pd.DataFrame({'Y': ['b','a','a','b'],\n",
    "                   'X': [2,4,3,1]})\n",
    "# Sort by column Y descending, then by column X ascending\n",
    "df.sort_values(by=['Y', 'X'], ascending=[False,True], inplace=True)\n",
    "print(df)"
   ]
  }
 ],
 "metadata": {
  "kernelspec": {
   "display_name": "Python 3",
   "language": "python",
   "name": "python3"
  },
  "language_info": {
   "codemirror_mode": {
    "name": "ipython",
    "version": 3
   },
   "file_extension": ".py",
   "mimetype": "text/x-python",
   "name": "python",
   "nbconvert_exporter": "python",
   "pygments_lexer": "ipython3",
   "version": "3.7.6"
  }
 },
 "nbformat": 4,
 "nbformat_minor": 4
}
